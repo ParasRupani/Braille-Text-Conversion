{
 "cells": [
  {
   "cell_type": "markdown",
   "id": "4373b0bd-1d1c-4431-bcc1-8ad53226d3c4",
   "metadata": {},
   "source": [
    "#### Importing Packages and Loading Data"
   ]
  },
  {
   "cell_type": "raw",
   "id": "a5e94d82-2fcb-4940-8798-0b87d60c2240",
   "metadata": {},
   "source": []
  },
  {
   "cell_type": "code",
   "execution_count": 1,
   "id": "0439dcc0-8b1b-4845-bd1c-f248be2e4b38",
   "metadata": {},
   "outputs": [],
   "source": [
    "import os\n",
    "import pandas as pd\n",
    "from PIL import Image\n",
    "import matplotlib.pyplot as plt\n",
    "import torch\n",
    "from torch.utils.data import Dataset, DataLoader\n",
    "from torchvision import transforms\n",
    "import torch.nn as nn\n",
    "import torch.optim as optim\n",
    "import torch.nn.functional as F\n",
    "from torch.nn.utils.rnn import pad_sequence\n",
    "from scipy import stats\n",
    "import warnings\n",
    "from sklearn.pipeline import Pipeline\n",
    "from sklearn.base import BaseEstimator, TransformerMixin\n",
    "\n",
    "warnings.filterwarnings(\"ignore\")"
   ]
  },
  {
   "cell_type": "code",
   "execution_count": 2,
   "id": "afa8dc5f-bdf8-4bd6-85b0-7f8df382c54a",
   "metadata": {},
   "outputs": [
    {
     "data": {
      "text/html": [
       "<div>\n",
       "<style scoped>\n",
       "    .dataframe tbody tr th:only-of-type {\n",
       "        vertical-align: middle;\n",
       "    }\n",
       "\n",
       "    .dataframe tbody tr th {\n",
       "        vertical-align: top;\n",
       "    }\n",
       "\n",
       "    .dataframe thead th {\n",
       "        text-align: right;\n",
       "    }\n",
       "</style>\n",
       "<table border=\"1\" class=\"dataframe\">\n",
       "  <thead>\n",
       "    <tr style=\"text-align: right;\">\n",
       "      <th></th>\n",
       "      <th>Text</th>\n",
       "      <th>Image</th>\n",
       "    </tr>\n",
       "  </thead>\n",
       "  <tbody>\n",
       "    <tr>\n",
       "      <th>0</th>\n",
       "      <td>lounes</td>\n",
       "      <td>./train/train_000001.png</td>\n",
       "    </tr>\n",
       "    <tr>\n",
       "      <th>1</th>\n",
       "      <td>camalayarane</td>\n",
       "      <td>./train/train_000002.png</td>\n",
       "    </tr>\n",
       "    <tr>\n",
       "      <th>2</th>\n",
       "      <td>roy</td>\n",
       "      <td>./train/train_000003.png</td>\n",
       "    </tr>\n",
       "    <tr>\n",
       "      <th>3</th>\n",
       "      <td>munch</td>\n",
       "      <td>./train/train_000004.png</td>\n",
       "    </tr>\n",
       "    <tr>\n",
       "      <th>4</th>\n",
       "      <td>pierre</td>\n",
       "      <td>./train/train_000005.png</td>\n",
       "    </tr>\n",
       "  </tbody>\n",
       "</table>\n",
       "</div>"
      ],
      "text/plain": [
       "                  Text                     Image\n",
       "0  lounes               ./train/train_000001.png\n",
       "1  camalayarane         ./train/train_000002.png\n",
       "2  roy                  ./train/train_000003.png\n",
       "3  munch                ./train/train_000004.png\n",
       "4  pierre               ./train/train_000005.png"
      ]
     },
     "execution_count": 2,
     "metadata": {},
     "output_type": "execute_result"
    }
   ],
   "source": [
    "# Load the CSV file\n",
    "train_csv_path = './data/train.csv'\n",
    "train_df = pd.read_csv(train_csv_path)\n",
    "\n",
    "train_df.head()"
   ]
  },
  {
   "cell_type": "code",
   "execution_count": 3,
   "id": "9a790d0e-c4c9-40e9-8082-d9358046aaa7",
   "metadata": {},
   "outputs": [],
   "source": [
    "# Getting image path\n",
    "image_paths = [f\"./data/train/{file}\" for file in os.listdir(\"./data/train\")]"
   ]
  },
  {
   "cell_type": "code",
   "execution_count": null,
   "id": "986785e1-9745-4195-81e1-3de979d56449",
   "metadata": {},
   "outputs": [],
   "source": []
  },
  {
   "cell_type": "markdown",
   "id": "6f7a56f6-f682-4767-81f8-066dbb47fe65",
   "metadata": {},
   "source": [
    "### Basic EDA on the dataset"
   ]
  },
  {
   "cell_type": "code",
   "execution_count": 4,
   "id": "1b54c50c-83b0-483f-9d75-8aa140cf4b40",
   "metadata": {},
   "outputs": [
    {
     "data": {
      "text/html": [
       "<div>\n",
       "<style scoped>\n",
       "    .dataframe tbody tr th:only-of-type {\n",
       "        vertical-align: middle;\n",
       "    }\n",
       "\n",
       "    .dataframe tbody tr th {\n",
       "        vertical-align: top;\n",
       "    }\n",
       "\n",
       "    .dataframe thead th {\n",
       "        text-align: right;\n",
       "    }\n",
       "</style>\n",
       "<table border=\"1\" class=\"dataframe\">\n",
       "  <thead>\n",
       "    <tr style=\"text-align: right;\">\n",
       "      <th></th>\n",
       "      <th>Text</th>\n",
       "      <th>Image</th>\n",
       "    </tr>\n",
       "  </thead>\n",
       "  <tbody>\n",
       "    <tr>\n",
       "      <th>count</th>\n",
       "      <td>93387</td>\n",
       "      <td>93387</td>\n",
       "    </tr>\n",
       "    <tr>\n",
       "      <th>unique</th>\n",
       "      <td>93375</td>\n",
       "      <td>93387</td>\n",
       "    </tr>\n",
       "    <tr>\n",
       "      <th>top</th>\n",
       "      <td>lola</td>\n",
       "      <td>./train/train_000001.png</td>\n",
       "    </tr>\n",
       "    <tr>\n",
       "      <th>freq</th>\n",
       "      <td>2</td>\n",
       "      <td>1</td>\n",
       "    </tr>\n",
       "  </tbody>\n",
       "</table>\n",
       "</div>"
      ],
      "text/plain": [
       "                       Text                     Image\n",
       "count                 93387                     93387\n",
       "unique                93375                     93387\n",
       "top     lola                 ./train/train_000001.png\n",
       "freq                      2                         1"
      ]
     },
     "execution_count": 4,
     "metadata": {},
     "output_type": "execute_result"
    }
   ],
   "source": [
    "# Summary statistics\n",
    "train_df.describe()"
   ]
  },
  {
   "cell_type": "code",
   "execution_count": 5,
   "id": "5a9938bd-84c8-4642-b1ad-46734bc6eaa4",
   "metadata": {},
   "outputs": [
    {
     "data": {
      "text/plain": [
       "Text     0\n",
       "Image    0\n",
       "dtype: int64"
      ]
     },
     "execution_count": 5,
     "metadata": {},
     "output_type": "execute_result"
    }
   ],
   "source": [
    "# Check for missing values\n",
    "train_df.isnull().sum()"
   ]
  },
  {
   "cell_type": "code",
   "execution_count": 6,
   "id": "b0302b87-a9ef-47b5-8ce4-3a6477064da4",
   "metadata": {},
   "outputs": [
    {
     "data": {
      "text/plain": [
       "count    93387.000000\n",
       "mean        19.000086\n",
       "std          0.009255\n",
       "min         19.000000\n",
       "25%         19.000000\n",
       "50%         19.000000\n",
       "75%         19.000000\n",
       "max         20.000000\n",
       "Name: text_length, dtype: float64"
      ]
     },
     "execution_count": 6,
     "metadata": {},
     "output_type": "execute_result"
    }
   ],
   "source": [
    "# Distribution of text lengths\n",
    "train_df['text_length'] = train_df['Text'].apply(len)\n",
    "text_length_distribution = train_df['text_length'].describe()\n",
    "text_length_distribution"
   ]
  },
  {
   "cell_type": "code",
   "execution_count": 7,
   "id": "5ee9414e-27e8-4e80-b550-dfc6c27cc8bf",
   "metadata": {},
   "outputs": [
    {
     "data": {
      "image/png": "[encoded data removed]",
      "text/plain": [
       "<Figure size 1000x600 with 1 Axes>"
      ]
     },
     "metadata": {},
     "output_type": "display_data"
    }
   ],
   "source": [
    "# Plot the distribution of text lengths\n",
    "plt.figure(figsize=(10, 6))\n",
    "plt.hist(train_df['text_length'], bins=30, color='skyblue', edgecolor='black')\n",
    "plt.title('Distribution of Text Lengths')\n",
    "plt.xlabel('Text Length')\n",
    "plt.ylabel('Frequency')\n",
    "plt.grid(True)\n",
    "plt.show()"
   ]
  },
  {
   "cell_type": "code",
   "execution_count": 8,
   "id": "31246dc2-2297-4784-8327-52b4b0916f1c",
   "metadata": {},
   "outputs": [
    {
     "data": {
      "image/png": "[encoded data removed]",
      "text/plain": [
       "<Figure size 1500x1000 with 5 Axes>"
      ]
     },
     "metadata": {},
     "output_type": "display_data"
    }
   ],
   "source": [
    "# Load and display the first few images with their dimensions\n",
    "plt.figure(figsize=(15, 10))\n",
    "\n",
    "for i, img_path in enumerate(image_paths[:5]):\n",
    "    img = Image.open(img_path)\n",
    "    width, height = img.size\n",
    "    plt.subplot(1, 5, i+1)\n",
    "    plt.imshow(img, cmap='gray')\n",
    "    plt.title(f'{width}x{height}\\n\\n{train_df.iloc[i][\"Text\"].title()}\\n')\n",
    "    plt.axis('off')\n",
    "\n",
    "plt.show()"
   ]
  },
  {
   "cell_type": "code",
   "execution_count": 9,
   "id": "d089460b-1d16-4a2c-9ec9-e4df3d74a2b6",
   "metadata": {},
   "outputs": [],
   "source": [
    "# Function to get image dimensions\n",
    "def get_image_dimensions(image_path):\n",
    "    img = Image.open(image_path)\n",
    "    return img.size\n",
    "\n",
    "# Verify the correspondence between text length and image width\n",
    "train_df['image_width'] = train_df['Image'].apply(lambda x: get_image_dimensions(f\"./data{x[1:]}\")[0])\n",
    "train_df['image_height'] = train_df['Image'].apply(lambda x: get_image_dimensions(f\"./data{x[1:]}\")[1])"
   ]
  },
  {
   "cell_type": "code",
   "execution_count": null,
   "id": "3efd05d6-2057-4057-bc92-dbfbd0bf4cf8",
   "metadata": {},
   "outputs": [],
   "source": []
  },
  {
   "cell_type": "code",
   "execution_count": 10,
   "id": "2a337b73-df29-4298-b388-911cce2d88c3",
   "metadata": {},
   "outputs": [
    {
     "name": "stdout",
     "output_type": "stream",
     "text": [
      "\n",
      "All images have consistent height of 70 pixels: True\n",
      "\n",
      "Number of discrepancies between actual and expected image widths: 93379\n"
     ]
    }
   ],
   "source": [
    "# Check if image height is consistent\n",
    "consistent_height = all(train_df['image_height'] == 70)\n",
    "print(f\"\\nAll images have consistent height of 70 pixels: {consistent_height}\")\n",
    "\n",
    "# Calculate expected width\n",
    "train_df['expected_width'] = train_df['text_length'] * 50\n",
    "\n",
    "# Check for discrepancies between actual and expected width\n",
    "width_discrepancies = (train_df['image_width'] != train_df['expected_width']).sum()\n",
    "print(f\"\\nNumber of discrepancies between actual and expected image widths: {width_discrepancies}\")"
   ]
  },
  {
   "cell_type": "code",
   "execution_count": null,
   "id": "c35c24a8-a46e-4f18-a71a-842371e8be18",
   "metadata": {},
   "outputs": [],
   "source": []
  },
  {
   "cell_type": "code",
   "execution_count": 11,
   "id": "9b33cece-de42-42b4-a284-60d2f9626eb5",
   "metadata": {},
   "outputs": [
    {
     "name": "stdout",
     "output_type": "stream",
     "text": [
      "Shapiro-Wilk Test: Statistic=0.0013749621462770811, p-value=2.0111682656298194e-182\n"
     ]
    }
   ],
   "source": [
    "# Create a numeric representation of the dependent variable (text length)\n",
    "train_df['text_length'] = train_df['Text'].apply(len)\n",
    "\n",
    "# Data Normality Tests\n",
    "# Shapiro-Wilk Test\n",
    "shapiro_test = stats.shapiro(train_df['text_length'])\n",
    "print(f\"Shapiro-Wilk Test: Statistic={shapiro_test.statistic}, p-value={shapiro_test.pvalue}\")"
   ]
  },
  {
   "cell_type": "code",
   "execution_count": null,
   "id": "ead0e29c-be09-45c6-bd97-bd14138c83df",
   "metadata": {},
   "outputs": [],
   "source": []
  },
  {
   "cell_type": "code",
   "execution_count": 12,
   "id": "168fc04d-69cf-49a8-a53e-b726a45ea077",
   "metadata": {},
   "outputs": [
    {
     "name": "stdout",
     "output_type": "stream",
     "text": [
      "Kolmogorov-Smirnov Test: Statistic=0.5036068470418658, p-value=0.0\n"
     ]
    }
   ],
   "source": [
    "# Kolmogorov-Smirnov Test\n",
    "ks_test = stats.kstest(train_df['text_length'], 'norm', args=(train_df['text_length'].mean(), train_df['text_length'].std()))\n",
    "print(f\"Kolmogorov-Smirnov Test: Statistic={ks_test.statistic}, p-value={ks_test.pvalue}\")"
   ]
  },
  {
   "cell_type": "code",
   "execution_count": null,
   "id": "d7aca958-af81-455e-8b2b-9db5d5dc22b2",
   "metadata": {},
   "outputs": [],
   "source": []
  },
  {
   "cell_type": "code",
   "execution_count": 13,
   "id": "eda93c13-445c-442c-aa5f-0ef7d60e4cd0",
   "metadata": {},
   "outputs": [
    {
     "name": "stdout",
     "output_type": "stream",
     "text": [
      "Spearman Correlation: Coefficient=nan, p-value=nan\n"
     ]
    }
   ],
   "source": [
    "# Correlation Tests\n",
    "# Spearman correlation\n",
    "spearman_corr, spearman_pval = stats.spearmanr(train_df['text_length'], train_df['image_width'])\n",
    "print(f\"Spearman Correlation: Coefficient={spearman_corr}, p-value={spearman_pval}\")"
   ]
  },
  {
   "cell_type": "code",
   "execution_count": null,
   "id": "5b0d6376-ff34-4d6d-9827-ebfabd16ca48",
   "metadata": {},
   "outputs": [],
   "source": []
  },
  {
   "cell_type": "code",
   "execution_count": 14,
   "id": "606cdf14-a8fb-4f36-b808-c2716d2cd66f",
   "metadata": {},
   "outputs": [
    {
     "name": "stdout",
     "output_type": "stream",
     "text": [
      "Wilcoxon Rank-Sum Test: Statistic=-4.898743417347192, p-value=9.645149723609927e-07\n"
     ]
    }
   ],
   "source": [
    "# Wilcoxon rank-sum test (two-sample test)\n",
    "# Assuming two groups based on text length median\n",
    "median_text_length = train_df['text_length'].median()\n",
    "group1 = train_df[train_df['text_length'] <= median_text_length]['text_length']\n",
    "group2 = train_df[train_df['text_length'] > median_text_length]['text_length']\n",
    "wilcoxon_test = stats.ranksums(group1, group2)\n",
    "print(f\"Wilcoxon Rank-Sum Test: Statistic={wilcoxon_test.statistic}, p-value={wilcoxon_test.pvalue}\")"
   ]
  },
  {
   "cell_type": "code",
   "execution_count": null,
   "id": "b1379ace-e16f-4df4-8ae0-6f874d40159a",
   "metadata": {},
   "outputs": [],
   "source": []
  },
  {
   "cell_type": "code",
   "execution_count": 15,
   "id": "f9dd982b-80ee-4087-84f7-3b4923efc25f",
   "metadata": {},
   "outputs": [
    {
     "name": "stdout",
     "output_type": "stream",
     "text": [
      "T-test: Statistic=-inf, p-value=0.0\n"
     ]
    }
   ],
   "source": [
    "# T-test\n",
    "t_test = stats.ttest_ind(group1, group2)\n",
    "print(f\"T-test: Statistic={t_test.statistic}, p-value={t_test.pvalue}\")"
   ]
  },
  {
   "cell_type": "code",
   "execution_count": null,
   "id": "11665596-a11e-4ee5-ac9a-32981c2fea37",
   "metadata": {},
   "outputs": [],
   "source": []
  },
  {
   "cell_type": "code",
   "execution_count": 16,
   "id": "a7d3b3df-412f-4f7c-91df-c5648b548b6d",
   "metadata": {},
   "outputs": [
    {
     "data": {
      "image/png": "[encoded data removed]",
      "text/plain": [
       "<Figure size 1000x600 with 1 Axes>"
      ]
     },
     "metadata": {},
     "output_type": "display_data"
    }
   ],
   "source": [
    "# Plot the distribution of image widths\n",
    "plt.figure(figsize=(10, 6))\n",
    "plt.hist(train_df['image_width'], bins=30, color='lightcoral', edgecolor='black')\n",
    "plt.title('Distribution of Image Widths')\n",
    "plt.xlabel('Image Width')\n",
    "plt.ylabel('Frequency')\n",
    "plt.grid(True)\n",
    "plt.show()"
   ]
  },
  {
   "cell_type": "code",
   "execution_count": 17,
   "id": "b299af97-6270-499b-9263-1517dbd6dc43",
   "metadata": {},
   "outputs": [
    {
     "data": {
      "text/html": [
       "<div>\n",
       "<style scoped>\n",
       "    .dataframe tbody tr th:only-of-type {\n",
       "        vertical-align: middle;\n",
       "    }\n",
       "\n",
       "    .dataframe tbody tr th {\n",
       "        vertical-align: top;\n",
       "    }\n",
       "\n",
       "    .dataframe thead th {\n",
       "        text-align: right;\n",
       "    }\n",
       "</style>\n",
       "<table border=\"1\" class=\"dataframe\">\n",
       "  <thead>\n",
       "    <tr style=\"text-align: right;\">\n",
       "      <th></th>\n",
       "      <th>Text</th>\n",
       "      <th>Image</th>\n",
       "      <th>text_length</th>\n",
       "      <th>image_width</th>\n",
       "      <th>image_height</th>\n",
       "      <th>expected_width</th>\n",
       "    </tr>\n",
       "  </thead>\n",
       "  <tbody>\n",
       "    <tr>\n",
       "      <th>0</th>\n",
       "      <td>lounes</td>\n",
       "      <td>./train/train_000001.png</td>\n",
       "      <td>19</td>\n",
       "      <td>1000</td>\n",
       "      <td>70</td>\n",
       "      <td>950</td>\n",
       "    </tr>\n",
       "    <tr>\n",
       "      <th>1</th>\n",
       "      <td>camalayarane</td>\n",
       "      <td>./train/train_000002.png</td>\n",
       "      <td>19</td>\n",
       "      <td>1000</td>\n",
       "      <td>70</td>\n",
       "      <td>950</td>\n",
       "    </tr>\n",
       "    <tr>\n",
       "      <th>2</th>\n",
       "      <td>roy</td>\n",
       "      <td>./train/train_000003.png</td>\n",
       "      <td>19</td>\n",
       "      <td>1000</td>\n",
       "      <td>70</td>\n",
       "      <td>950</td>\n",
       "    </tr>\n",
       "    <tr>\n",
       "      <th>3</th>\n",
       "      <td>munch</td>\n",
       "      <td>./train/train_000004.png</td>\n",
       "      <td>19</td>\n",
       "      <td>1000</td>\n",
       "      <td>70</td>\n",
       "      <td>950</td>\n",
       "    </tr>\n",
       "    <tr>\n",
       "      <th>4</th>\n",
       "      <td>pierre</td>\n",
       "      <td>./train/train_000005.png</td>\n",
       "      <td>19</td>\n",
       "      <td>1000</td>\n",
       "      <td>70</td>\n",
       "      <td>950</td>\n",
       "    </tr>\n",
       "  </tbody>\n",
       "</table>\n",
       "</div>"
      ],
      "text/plain": [
       "                  Text                     Image  text_length  image_width  \\\n",
       "0  lounes               ./train/train_000001.png           19         1000   \n",
       "1  camalayarane         ./train/train_000002.png           19         1000   \n",
       "2  roy                  ./train/train_000003.png           19         1000   \n",
       "3  munch                ./train/train_000004.png           19         1000   \n",
       "4  pierre               ./train/train_000005.png           19         1000   \n",
       "\n",
       "   image_height  expected_width  \n",
       "0            70             950  \n",
       "1            70             950  \n",
       "2            70             950  \n",
       "3            70             950  \n",
       "4            70             950  "
      ]
     },
     "execution_count": 17,
     "metadata": {},
     "output_type": "execute_result"
    }
   ],
   "source": [
    "train_df.head()"
   ]
  },
  {
   "cell_type": "code",
   "execution_count": null,
   "id": "f85b7915-7f8b-45e3-b17a-db1ea86aa617",
   "metadata": {},
   "outputs": [],
   "source": []
  },
  {
   "cell_type": "code",
   "execution_count": null,
   "id": "aa48c3db-3e8f-43df-bce3-abb1c17c9350",
   "metadata": {},
   "outputs": [],
   "source": []
  },
  {
   "cell_type": "code",
   "execution_count": 18,
   "id": "dcea839f-173e-44b7-bb25-c4584942440c",
   "metadata": {},
   "outputs": [],
   "source": [
    "def pad_words_in_csv(csv_file, max_length=20):\n",
    "    df = pd.read_csv(csv_file)\n",
    "    df['Text'] = df['Text'].apply(lambda x: x.ljust(max_length))\n",
    "    df.to_csv(csv_file, index=False)\n",
    "\n",
    "# Paths to CSV files\n",
    "train_csv = \"./data/train.csv\"\n",
    "validation_csv = \"./data/validation.csv\"\n",
    "test_csv = \"./data/test.csv\"\n",
    "\n",
    "# Preprocess CSV files to pad words\n",
    "pad_words_in_csv(train_csv)\n",
    "pad_words_in_csv(validation_csv)\n",
    "pad_words_in_csv(test_csv)"
   ]
  },
  {
   "cell_type": "code",
   "execution_count": null,
   "id": "b6300b96-e85b-4777-b875-088c748af233",
   "metadata": {},
   "outputs": [],
   "source": []
  },
  {
   "cell_type": "code",
   "execution_count": 19,
   "id": "4819d1f9-2844-4384-abb8-f5cd61469ec2",
   "metadata": {},
   "outputs": [],
   "source": [
    "class EnglishDataset(Dataset):\n",
    "    def __init__(self, csv_file, img_dir, transform=None):\n",
    "        self.labels = pd.read_csv(csv_file)\n",
    "        self.img_dir = img_dir\n",
    "        self.transform = transform\n",
    "        self.classes = {char: idx for idx, char in enumerate(\"abcdefghijklmnopqrstuvwxyz \")}\n",
    "        self.num_classes = len(self.classes)\n",
    "\n",
    "    def __len__(self):\n",
    "        return len(self.labels)\n",
    "\n",
    "    def __getitem__(self, idx):\n",
    "        img_name = os.path.join(self.img_dir, self.labels.iloc[idx, 1].split(\"/\")[-1])\n",
    "        image = Image.open(img_name).convert('RGB')\n",
    "        label = self.labels.iloc[idx, 0]\n",
    "        label = torch.tensor([self.classes[char] for char in label], dtype=torch.long)  # Convert label to tensor\n",
    "        \n",
    "        if self.transform:\n",
    "            image = self.transform(image)\n",
    "        \n",
    "        return image, label\n",
    "\n",
    "# Transforms for image preprocessing\n",
    "transform = transforms.Compose([\n",
    "    transforms.Resize((70, 1000)),\n",
    "    transforms.ToTensor(),\n",
    "    transforms.Normalize((0.5,), (0.5,))\n",
    "])\n",
    "\n",
    "def collate_fn(batch):\n",
    "    images, labels = zip(*batch)\n",
    "    images = torch.stack(images, 0)\n",
    "    labels = pad_sequence(labels, batch_first=True, padding_value=-1)  # Use -1 as padding value\n",
    "    return images, labels"
   ]
  },
  {
   "cell_type": "code",
   "execution_count": null,
   "id": "96e99897-5f2d-4c95-94ca-3b30e5ed78e8",
   "metadata": {},
   "outputs": [],
   "source": []
  },
  {
   "cell_type": "code",
   "execution_count": 20,
   "id": "2591936c-9b31-4d42-89f6-fd546bc47d89",
   "metadata": {},
   "outputs": [],
   "source": [
    "class EnglishCNN(nn.Module):\n",
    "    def __init__(self, num_classes, max_label_length):\n",
    "        super(EnglishCNN, self).__init__()\n",
    "        self.conv1 = nn.Conv2d(3, 32, kernel_size=3, stride=1, padding=1)\n",
    "        self.pool = nn.AdaptiveMaxPool2d((35, 475))\n",
    "        self.conv2 = nn.Conv2d(32, 64, kernel_size=3, stride=1, padding=1)\n",
    "        self.fc1 = nn.Linear(64 * 35 * 475, 128)\n",
    "        self.fc2 = nn.Linear(128, num_classes * max_label_length)\n",
    "        self.num_classes = num_classes\n",
    "        self.max_label_length = max_label_length\n",
    "\n",
    "    def forward(self, x):\n",
    "        x = self.pool(F.relu(self.conv1(x)))\n",
    "        x = self.pool(F.relu(self.conv2(x)))\n",
    "        x = x.view(-1, 64 * 35 * 475)\n",
    "        x = F.relu(self.fc1(x))\n",
    "        x = self.fc2(x)\n",
    "        x = x.view(-1, self.max_label_length, self.num_classes)  # Reshape for sequence output\n",
    "        return x"
   ]
  },
  {
   "cell_type": "code",
   "execution_count": null,
   "id": "9a177c25-38c8-4c81-99ba-4e96f677345b",
   "metadata": {},
   "outputs": [],
   "source": []
  },
  {
   "cell_type": "code",
   "execution_count": 21,
   "id": "d21e2c94-dcbe-4acd-9673-a9ec6534637f",
   "metadata": {},
   "outputs": [
    {
     "name": "stdout",
     "output_type": "stream",
     "text": [
      "Epoch [1/20], Train Loss: 0.7732, Validation Loss: 0.2697, Validation Accuracy: 92.48%\n",
      "Epoch [2/20], Train Loss: 0.2835, Validation Loss: 0.1949, Validation Accuracy: 94.55%\n",
      "Epoch [3/20], Train Loss: 0.2253, Validation Loss: 0.1576, Validation Accuracy: 95.63%\n",
      "Epoch [4/20], Train Loss: 0.1903, Validation Loss: 0.1353, Validation Accuracy: 96.31%\n",
      "Epoch [5/20], Train Loss: 0.1665, Validation Loss: 0.1187, Validation Accuracy: 96.76%\n",
      "Epoch [6/20], Train Loss: 0.1483, Validation Loss: 0.1074, Validation Accuracy: 97.08%\n",
      "Epoch [7/20], Train Loss: 0.1341, Validation Loss: 0.0975, Validation Accuracy: 97.37%\n",
      "Epoch [8/20], Train Loss: 0.1337, Validation Loss: 0.0822, Validation Accuracy: 97.82%\n",
      "Epoch [9/20], Train Loss: 0.1070, Validation Loss: 0.0763, Validation Accuracy: 97.98%\n",
      "Epoch [10/20], Train Loss: 0.0974, Validation Loss: 0.0708, Validation Accuracy: 98.12%\n",
      "Epoch [11/20], Train Loss: 0.0918, Validation Loss: 0.0668, Validation Accuracy: 98.23%\n",
      "Epoch [12/20], Train Loss: 0.0868, Validation Loss: 0.0625, Validation Accuracy: 98.31%\n",
      "Epoch [13/20], Train Loss: 0.0832, Validation Loss: 0.0616, Validation Accuracy: 98.36%\n",
      "Epoch [14/20], Train Loss: 0.0803, Validation Loss: 0.0593, Validation Accuracy: 98.44%\n",
      "Epoch [15/20], Train Loss: 0.0763, Validation Loss: 0.0560, Validation Accuracy: 98.55%\n",
      "Epoch [16/20], Train Loss: 0.0678, Validation Loss: 0.0511, Validation Accuracy: 98.68%\n",
      "Epoch [17/20], Train Loss: 0.0631, Validation Loss: 0.0464, Validation Accuracy: 98.78%\n",
      "Epoch [18/20], Train Loss: 0.0607, Validation Loss: 0.0460, Validation Accuracy: 98.82%\n",
      "Epoch [19/20], Train Loss: 0.0583, Validation Loss: 0.0458, Validation Accuracy: 98.84%\n",
      "Epoch [20/20], Train Loss: 0.0564, Validation Loss: 0.0450, Validation Accuracy: 98.82%\n"
     ]
    }
   ],
   "source": [
    "def train_and_validate():\n",
    "    # Paths\n",
    "    train_csv = \"./data/train.csv\"\n",
    "    train_images_path = \"./data/train/\"\n",
    "    validation_csv = \"./data/validation.csv\"\n",
    "    validation_images_path = \"./data/validation/\"\n",
    "\n",
    "    # Hyperparameters\n",
    "    batch_size = 128  # Increased batch size to better utilize GPU\n",
    "    learning_rate = 0.001\n",
    "    num_epochs = 20\n",
    "    max_label_length = 20  # Maximum number of characters in labels\n",
    "    num_classes = 27  # Number of classes for each alphabet letter plus space\n",
    "\n",
    "    # Data loaders\n",
    "    train_dataset = EnglishDataset(csv_file=train_csv, img_dir=train_images_path, transform=transform)\n",
    "    train_loader = DataLoader(dataset=train_dataset, batch_size=batch_size, shuffle=True, collate_fn=collate_fn)\n",
    "\n",
    "    validation_dataset = EnglishDataset(csv_file=validation_csv, img_dir=validation_images_path, transform=transform)\n",
    "    validation_loader = DataLoader(dataset=validation_dataset, batch_size=batch_size, shuffle=False, collate_fn=collate_fn)\n",
    "\n",
    "    # Model, loss function, optimizer\n",
    "    device = torch.device('cuda' if torch.cuda.is_available() else 'cpu')\n",
    "    model = EnglishCNN(num_classes=num_classes, max_label_length=max_label_length).to(device)\n",
    "    criterion = nn.CrossEntropyLoss(ignore_index=-1)  # Ignore the padding value (-1)\n",
    "    optimizer = optim.Adam(model.parameters(), lr=learning_rate)\n",
    "\n",
    "    # Training loop\n",
    "    for epoch in range(num_epochs):\n",
    "        model.train()\n",
    "        train_loss = 0\n",
    "        for images, labels in train_loader:\n",
    "            images = images.to(device)\n",
    "            labels = labels.to(device)\n",
    "\n",
    "            # Forward pass\n",
    "            outputs = model(images)\n",
    "            \n",
    "            # Flatten outputs and labels while ignoring padding\n",
    "            outputs = outputs.view(-1, num_classes)\n",
    "            labels = labels.view(-1)\n",
    "            mask = (labels != -1)\n",
    "            labels = labels[mask]\n",
    "            outputs = outputs[mask]\n",
    "\n",
    "            loss = criterion(outputs, labels)\n",
    "            train_loss += loss.item()\n",
    "\n",
    "            # Backward pass and optimization\n",
    "            optimizer.zero_grad()\n",
    "            loss.backward()\n",
    "            optimizer.step()\n",
    "\n",
    "        # Validation\n",
    "        model.eval()\n",
    "        validation_loss = 0\n",
    "        correct = 0\n",
    "        total = 0\n",
    "        with torch.no_grad():\n",
    "            for images, labels in validation_loader:\n",
    "                images = images.to(device)\n",
    "                labels = labels.to(device)\n",
    "                outputs = model(images)\n",
    "\n",
    "                outputs = outputs.view(-1, num_classes)\n",
    "                labels = labels.view(-1)\n",
    "                mask = (labels != -1)\n",
    "                labels = labels[mask]\n",
    "                outputs = outputs[mask]\n",
    "\n",
    "                loss = criterion(outputs, labels)\n",
    "                validation_loss += loss.item()\n",
    "                _, predicted = torch.max(outputs.data, 1)\n",
    "                total += labels.size(0)\n",
    "                correct += (predicted == labels).sum().item()\n",
    "\n",
    "        train_loss /= len(train_loader)\n",
    "        validation_loss /= len(validation_loader)\n",
    "        validation_accuracy = 100 * correct / total\n",
    "\n",
    "        print(f'Epoch [{epoch+1}/{num_epochs}], '\n",
    "              f'Train Loss: {train_loss:.4f}, '\n",
    "              f'Validation Loss: {validation_loss:.4f}, '\n",
    "              f'Validation Accuracy: {validation_accuracy:.2f}%')\n",
    "\n",
    "        torch.save(model.state_dict(), './app/english_cnn.pth')\n",
    "\n",
    "train_and_validate()"
   ]
  },
  {
   "cell_type": "code",
   "execution_count": null,
   "id": "b43638d4-e7bc-4605-8e3d-b7c25129f83d",
   "metadata": {},
   "outputs": [],
   "source": []
  },
  {
   "cell_type": "code",
   "execution_count": 22,
   "id": "bfc314ef-c9cd-4da4-ac80-536bba218409",
   "metadata": {},
   "outputs": [
    {
     "name": "stdout",
     "output_type": "stream",
     "text": [
      "Accuracy on test data: 98.8168110362528%\n"
     ]
    }
   ],
   "source": [
    "def evaluate():\n",
    "    # Paths\n",
    "    test_csv = \"./data/test.csv\"\n",
    "    test_images_path = \"./data/test/\"\n",
    "\n",
    "    # Hyperparameters\n",
    "    max_label_length = 20  # Maximum number of characters in labels\n",
    "    num_classes = 27  # Number of classes for each alphabet letter plus space\n",
    "\n",
    "    # Load test dataset\n",
    "    test_dataset = EnglishDataset(csv_file=test_csv, img_dir=test_images_path, transform=transform)\n",
    "    test_loader = DataLoader(dataset=test_dataset, batch_size=1, shuffle=False, collate_fn=collate_fn)\n",
    "\n",
    "    # Load the model\n",
    "    device = torch.device('cuda' if torch.cuda.is_available() else 'cpu')\n",
    "    model = EnglishCNN(num_classes=num_classes, max_label_length=max_label_length).to(device)\n",
    "    model.load_state_dict(torch.load('./app/english_cnn.pth'))\n",
    "    model.eval()\n",
    "\n",
    "    # Evaluate the model\n",
    "    correct = 0\n",
    "    total = 0\n",
    "    with torch.no_grad():\n",
    "        for images, labels in test_loader:\n",
    "            images = images.to(device)\n",
    "            labels = labels.to(device)\n",
    "            outputs = model(images)\n",
    "\n",
    "            outputs = outputs.view(-1, num_classes)\n",
    "            labels = labels.view(-1)\n",
    "            mask = (labels != -1)\n",
    "            labels = labels[mask]\n",
    "            outputs = outputs[mask]\n",
    "\n",
    "            _, predicted = torch.max(outputs.data, 1)\n",
    "            total += labels.size(0)\n",
    "            correct += (predicted == labels).sum().item()\n",
    "\n",
    "    print(f'Accuracy on test data: {100 * correct / total}%')\n",
    "\n",
    "evaluate()"
   ]
  },
  {
   "cell_type": "code",
   "execution_count": null,
   "id": "988b216d-11d0-421b-9a35-632125b0bd51",
   "metadata": {},
   "outputs": [],
   "source": []
  }
 ],
 "metadata": {
  "kernelspec": {
   "display_name": "Python 3 (ipykernel)",
   "language": "python",
   "name": "python3"
  },
  "language_info": {
   "codemirror_mode": {
    "name": "ipython",
    "version": 3
   },
   "file_extension": ".py",
   "mimetype": "text/x-python",
   "name": "python",
   "nbconvert_exporter": "python",
   "pygments_lexer": "ipython3",
   "version": "3.10.12"
  }
 },
 "nbformat": 4,
 "nbformat_minor": 5
}
